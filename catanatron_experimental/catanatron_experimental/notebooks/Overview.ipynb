{
 "cells": [
  {
   "cell_type": "markdown",
   "id": "38540cf7-9b4f-4c98-9abb-952c84443f1d",
   "metadata": {},
   "source": [
    "# Catanatron Introduction\n",
    "This shows example usage of Catanatron. First, you can implement your own bot strategy and pit against some benchmark bots."
   ]
  },
  {
   "cell_type": "code",
   "execution_count": 1,
   "id": "ef40e33f-8937-4918-b626-d70a2615e7aa",
   "metadata": {},
   "outputs": [
    {
     "name": "stdout",
     "output_type": "stream",
     "text": [
      "Color.BLUE\n"
     ]
    }
   ],
   "source": [
    "import random\n",
    "\n",
    "from catanatron.game import Game\n",
    "from catanatron.models.player import Player, RandomPlayer, Color\n",
    "from catanatron.players.weighted_random import WeightedRandomPlayer\n",
    "\n",
    "class MyPlayer(Player):\n",
    "    def decide(self, game, playable_actions):\n",
    "        \"\"\"Should return one of the playable_actions.\n",
    "\n",
    "        Args:\n",
    "            game (Game): complete game state. read-only.\n",
    "            playable_actions (Iterable[Action]): options to choose from\n",
    "        Return:\n",
    "            action (Action): Chosen element of playable_actions\n",
    "        \"\"\"\n",
    "        # ===== YOUR CODE HERE =====\n",
    "        # As an example we simply choose a valid action at random:\n",
    "        return random.choice(playable_actions)\n",
    "        # ===== END YOUR CODE =====\n",
    "\n",
    "# Play a simple 4v4 game. Edit MyPlayer with your logic!\n",
    "players = [\n",
    "    MyPlayer(Color.RED),\n",
    "    WeightedRandomPlayer(Color.BLUE),\n",
    "    RandomPlayer(Color.WHITE),\n",
    "    RandomPlayer(Color.ORANGE),\n",
    "]\n",
    "game = Game(players)\n",
    "print(game.play())  # returns winning color"
   ]
  },
  {
   "cell_type": "markdown",
   "id": "cd529f61-6de7-4de1-8e0c-273db6a2de9f",
   "metadata": {},
   "source": [
    "You can also simulate thousands of games to get more statistically significant results:"
   ]
  },
  {
   "cell_type": "code",
   "execution_count": 4,
   "id": "e06b3b9c-aa9c-4ec3-9b05-74c5d389d766",
   "metadata": {},
   "outputs": [
    {
     "data": {
      "text/html": [
       "<pre style=\"white-space:pre;overflow-x:auto;line-height:normal;font-family:Menlo,'DejaVu Sans Mono',consolas,'Courier New',monospace\">Playing 10 games...       <span style=\"color: #008000; text-decoration-color: #008000\">━━━━━━━━━━━━━━━━━━━━━━━━━━━━━━━━━━━━━━━━</span> 100% 0:00:00\n",
       "<span style=\"color: #800000; text-decoration-color: #800000\">MyPlayer:RED</span>              <span style=\"color: #3a3a3a; text-decoration-color: #3a3a3a\">━━━━━━━━━━━━━━━━━━━━━━━━━━━━━━━━━━━━━━━━</span>   0%        \n",
       "<span style=\"color: #000080; text-decoration-color: #000080\">WeightedRandomPlayer:BLUE</span> <span style=\"color: #008000; text-decoration-color: #008000\">━━━━━━━━━━━━━━━━</span><span style=\"color: #3a3a3a; text-decoration-color: #3a3a3a\">╺━━━━━━━━━━━━━━━━━━━━━━━</span>  40%        \n",
       "<span style=\"color: #c0c0c0; text-decoration-color: #c0c0c0\">RandomPlayer:WHITE</span>        <span style=\"color: #008000; text-decoration-color: #008000\">━━━━━━━━━━━━━━━━</span><span style=\"color: #3a3a3a; text-decoration-color: #3a3a3a\">╺━━━━━━━━━━━━━━━━━━━━━━━</span>  40%        \n",
       "<span style=\"color: #808000; text-decoration-color: #808000\">RandomPlayer:ORANGE</span>       <span style=\"color: #008000; text-decoration-color: #008000\">━━━━━━━━</span><span style=\"color: #3a3a3a; text-decoration-color: #3a3a3a\">╺━━━━━━━━━━━━━━━━━━━━━━━━━━━━━━━</span>  20%        \n",
       "</pre>\n"
      ],
      "text/plain": [
       "Playing 10 games...       \u001b[32m━━━━━━━━━━━━━━━━━━━━━━━━━━━━━━━━━━━━━━━━\u001b[0m 100% 0:00:00\n",
       "\u001b[31mMyPlayer:RED\u001b[0m              \u001b[38;5;237m━━━━━━━━━━━━━━━━━━━━━━━━━━━━━━━━━━━━━━━━\u001b[0m   0%        \n",
       "\u001b[34mWeightedRandomPlayer:BLUE\u001b[0m \u001b[32m━━━━━━━━━━━━━━━━\u001b[0m\u001b[38;5;237m╺\u001b[0m\u001b[38;5;237m━━━━━━━━━━━━━━━━━━━━━━━\u001b[0m  40%        \n",
       "\u001b[37mRandomPlayer:WHITE\u001b[0m        \u001b[32m━━━━━━━━━━━━━━━━\u001b[0m\u001b[38;5;237m╺\u001b[0m\u001b[38;5;237m━━━━━━━━━━━━━━━━━━━━━━━\u001b[0m  40%        \n",
       "\u001b[33mRandomPlayer:ORANGE\u001b[0m       \u001b[32m━━━━━━━━\u001b[0m\u001b[38;5;237m╺\u001b[0m\u001b[38;5;237m━━━━━━━━━━━━━━━━━━━━━━━━━━━━━━━\u001b[0m  20%        \n"
      ]
     },
     "metadata": {},
     "output_type": "display_data"
    },
    {
     "data": {
      "text/html": [
       "<pre style=\"white-space:pre;overflow-x:auto;line-height:normal;font-family:Menlo,'DejaVu Sans Mono',consolas,'Courier New',monospace\"></pre>\n"
      ],
      "text/plain": []
     },
     "metadata": {},
     "output_type": "display_data"
    },
    {
     "data": {
      "text/html": [
       "<pre style=\"white-space:pre;overflow-x:auto;line-height:normal;font-family:Menlo,'DejaVu Sans Mono',consolas,'Courier New',monospace\">\n",
       "</pre>\n"
      ],
      "text/plain": [
       "\n"
      ]
     },
     "metadata": {},
     "output_type": "display_data"
    },
    {
     "data": {
      "text/html": [
       "<pre style=\"white-space:pre;overflow-x:auto;line-height:normal;font-family:Menlo,'DejaVu Sans Mono',consolas,'Courier New',monospace\"><span style=\"font-style: italic\">                                      Last 10 Games                                      </span>\n",
       "     ╷                       ╷       ╷        ╷         ╷          ╷           ╷         \n",
       " <span style=\"font-weight: bold\">  # </span>│<span style=\"font-weight: bold\"> SEATING               </span>│<span style=\"font-weight: bold\"> TURNS </span>│<span style=\"font-weight: bold\"> RED VP </span>│<span style=\"font-weight: bold\"> BLUE VP </span>│<span style=\"font-weight: bold\"> WHITE VP </span>│<span style=\"font-weight: bold\"> ORANGE VP </span>│<span style=\"font-weight: bold\"> WINNER </span> \n",
       "╶────┼───────────────────────┼───────┼────────┼─────────┼──────────┼───────────┼────────╴\n",
       "   1 │ <span style=\"color: #c0c0c0; text-decoration-color: #c0c0c0\">WHITE</span>,<span style=\"color: #800000; text-decoration-color: #800000\">RED</span>,<span style=\"color: #000080; text-decoration-color: #000080\">BLUE</span>,<span style=\"color: #808000; text-decoration-color: #808000\">ORANGE</span> │   130 │      2 │       2 │       11 │         2 │ <span style=\"color: #c0c0c0; text-decoration-color: #c0c0c0\">WHITE</span>   \n",
       "   2 │ <span style=\"color: #c0c0c0; text-decoration-color: #c0c0c0\">WHITE</span>,<span style=\"color: #000080; text-decoration-color: #000080\">BLUE</span>,<span style=\"color: #808000; text-decoration-color: #808000\">ORANGE</span>,<span style=\"color: #800000; text-decoration-color: #800000\">RED</span> │   146 │      2 │       2 │       10 │         3 │ <span style=\"color: #c0c0c0; text-decoration-color: #c0c0c0\">WHITE</span>   \n",
       "   3 │ <span style=\"color: #808000; text-decoration-color: #808000\">ORANGE</span>,<span style=\"color: #800000; text-decoration-color: #800000\">RED</span>,<span style=\"color: #c0c0c0; text-decoration-color: #c0c0c0\">WHITE</span>,<span style=\"color: #000080; text-decoration-color: #000080\">BLUE</span> │   325 │      4 │      10 │        2 │         9 │ <span style=\"color: #000080; text-decoration-color: #000080\">BLUE</span>    \n",
       "   4 │ <span style=\"color: #800000; text-decoration-color: #800000\">RED</span>,<span style=\"color: #c0c0c0; text-decoration-color: #c0c0c0\">WHITE</span>,<span style=\"color: #000080; text-decoration-color: #000080\">BLUE</span>,<span style=\"color: #808000; text-decoration-color: #808000\">ORANGE</span> │   152 │      2 │      10 │        4 │         3 │ <span style=\"color: #000080; text-decoration-color: #000080\">BLUE</span>    \n",
       "   5 │ <span style=\"color: #c0c0c0; text-decoration-color: #c0c0c0\">WHITE</span>,<span style=\"color: #000080; text-decoration-color: #000080\">BLUE</span>,<span style=\"color: #808000; text-decoration-color: #808000\">ORANGE</span>,<span style=\"color: #800000; text-decoration-color: #800000\">RED</span> │   218 │      6 │       7 │       10 │         4 │ <span style=\"color: #c0c0c0; text-decoration-color: #c0c0c0\">WHITE</span>   \n",
       "   6 │ <span style=\"color: #c0c0c0; text-decoration-color: #c0c0c0\">WHITE</span>,<span style=\"color: #808000; text-decoration-color: #808000\">ORANGE</span>,<span style=\"color: #800000; text-decoration-color: #800000\">RED</span>,<span style=\"color: #000080; text-decoration-color: #000080\">BLUE</span> │   199 │      6 │       2 │        2 │        10 │ <span style=\"color: #808000; text-decoration-color: #808000\">ORANGE</span>  \n",
       "   7 │ <span style=\"color: #c0c0c0; text-decoration-color: #c0c0c0\">WHITE</span>,<span style=\"color: #000080; text-decoration-color: #000080\">BLUE</span>,<span style=\"color: #808000; text-decoration-color: #808000\">ORANGE</span>,<span style=\"color: #800000; text-decoration-color: #800000\">RED</span> │   123 │      2 │      11 │        2 │         7 │ <span style=\"color: #000080; text-decoration-color: #000080\">BLUE</span>    \n",
       "   8 │ <span style=\"color: #800000; text-decoration-color: #800000\">RED</span>,<span style=\"color: #000080; text-decoration-color: #000080\">BLUE</span>,<span style=\"color: #c0c0c0; text-decoration-color: #c0c0c0\">WHITE</span>,<span style=\"color: #808000; text-decoration-color: #808000\">ORANGE</span> │   356 │      9 │       2 │       10 │         3 │ <span style=\"color: #c0c0c0; text-decoration-color: #c0c0c0\">WHITE</span>   \n",
       "   9 │ <span style=\"color: #c0c0c0; text-decoration-color: #c0c0c0\">WHITE</span>,<span style=\"color: #808000; text-decoration-color: #808000\">ORANGE</span>,<span style=\"color: #800000; text-decoration-color: #800000\">RED</span>,<span style=\"color: #000080; text-decoration-color: #000080\">BLUE</span> │   227 │      9 │       2 │        5 │        10 │ <span style=\"color: #808000; text-decoration-color: #808000\">ORANGE</span>  \n",
       "  10 │ <span style=\"color: #800000; text-decoration-color: #800000\">RED</span>,<span style=\"color: #c0c0c0; text-decoration-color: #c0c0c0\">WHITE</span>,<span style=\"color: #000080; text-decoration-color: #000080\">BLUE</span>,<span style=\"color: #808000; text-decoration-color: #808000\">ORANGE</span> │   280 │      3 │      10 │        7 │         8 │ <span style=\"color: #000080; text-decoration-color: #000080\">BLUE</span>    \n",
       "     ╵                       ╵       ╵        ╵         ╵          ╵           ╵         \n",
       "</pre>\n"
      ],
      "text/plain": [
       "\u001b[3m                                      Last 10 Games                                      \u001b[0m\n",
       "     ╷                       ╷       ╷        ╷         ╷          ╷           ╷         \n",
       " \u001b[1m \u001b[0m\u001b[1m #\u001b[0m\u001b[1m \u001b[0m│\u001b[1m \u001b[0m\u001b[1mSEATING              \u001b[0m\u001b[1m \u001b[0m│\u001b[1m \u001b[0m\u001b[1mTURNS\u001b[0m\u001b[1m \u001b[0m│\u001b[1m \u001b[0m\u001b[1mRED VP\u001b[0m\u001b[1m \u001b[0m│\u001b[1m \u001b[0m\u001b[1mBLUE VP\u001b[0m\u001b[1m \u001b[0m│\u001b[1m \u001b[0m\u001b[1mWHITE VP\u001b[0m\u001b[1m \u001b[0m│\u001b[1m \u001b[0m\u001b[1mORANGE VP\u001b[0m\u001b[1m \u001b[0m│\u001b[1m \u001b[0m\u001b[1mWINNER\u001b[0m\u001b[1m \u001b[0m \n",
       "╶────┼───────────────────────┼───────┼────────┼─────────┼──────────┼───────────┼────────╴\n",
       "   1 │ \u001b[37mWHITE\u001b[0m,\u001b[31mRED\u001b[0m,\u001b[34mBLUE\u001b[0m,\u001b[33mORANGE\u001b[0m │   130 │      2 │       2 │       11 │         2 │ \u001b[37mWHITE\u001b[0m   \n",
       "   2 │ \u001b[37mWHITE\u001b[0m,\u001b[34mBLUE\u001b[0m,\u001b[33mORANGE\u001b[0m,\u001b[31mRED\u001b[0m │   146 │      2 │       2 │       10 │         3 │ \u001b[37mWHITE\u001b[0m   \n",
       "   3 │ \u001b[33mORANGE\u001b[0m,\u001b[31mRED\u001b[0m,\u001b[37mWHITE\u001b[0m,\u001b[34mBLUE\u001b[0m │   325 │      4 │      10 │        2 │         9 │ \u001b[34mBLUE\u001b[0m    \n",
       "   4 │ \u001b[31mRED\u001b[0m,\u001b[37mWHITE\u001b[0m,\u001b[34mBLUE\u001b[0m,\u001b[33mORANGE\u001b[0m │   152 │      2 │      10 │        4 │         3 │ \u001b[34mBLUE\u001b[0m    \n",
       "   5 │ \u001b[37mWHITE\u001b[0m,\u001b[34mBLUE\u001b[0m,\u001b[33mORANGE\u001b[0m,\u001b[31mRED\u001b[0m │   218 │      6 │       7 │       10 │         4 │ \u001b[37mWHITE\u001b[0m   \n",
       "   6 │ \u001b[37mWHITE\u001b[0m,\u001b[33mORANGE\u001b[0m,\u001b[31mRED\u001b[0m,\u001b[34mBLUE\u001b[0m │   199 │      6 │       2 │        2 │        10 │ \u001b[33mORANGE\u001b[0m  \n",
       "   7 │ \u001b[37mWHITE\u001b[0m,\u001b[34mBLUE\u001b[0m,\u001b[33mORANGE\u001b[0m,\u001b[31mRED\u001b[0m │   123 │      2 │      11 │        2 │         7 │ \u001b[34mBLUE\u001b[0m    \n",
       "   8 │ \u001b[31mRED\u001b[0m,\u001b[34mBLUE\u001b[0m,\u001b[37mWHITE\u001b[0m,\u001b[33mORANGE\u001b[0m │   356 │      9 │       2 │       10 │         3 │ \u001b[37mWHITE\u001b[0m   \n",
       "   9 │ \u001b[37mWHITE\u001b[0m,\u001b[33mORANGE\u001b[0m,\u001b[31mRED\u001b[0m,\u001b[34mBLUE\u001b[0m │   227 │      9 │       2 │        5 │        10 │ \u001b[33mORANGE\u001b[0m  \n",
       "  10 │ \u001b[31mRED\u001b[0m,\u001b[37mWHITE\u001b[0m,\u001b[34mBLUE\u001b[0m,\u001b[33mORANGE\u001b[0m │   280 │      3 │      10 │        7 │         8 │ \u001b[34mBLUE\u001b[0m    \n",
       "     ╵                       ╵       ╵        ╵         ╵          ╵           ╵         \n"
      ]
     },
     "metadata": {},
     "output_type": "display_data"
    },
    {
     "data": {
      "text/html": [
       "<pre style=\"white-space:pre;overflow-x:auto;line-height:normal;font-family:Menlo,'DejaVu Sans Mono',consolas,'Courier New',monospace\"><span style=\"font-style: italic\">                Player Summary                </span>\n",
       "                            ╷      ╷          \n",
       " <span style=\"font-weight: bold\">                           </span>│<span style=\"font-weight: bold\"> WINS </span>│<span style=\"font-weight: bold\"> AVG VPs </span> \n",
       "╶───────────────────────────┼──────┼─────────╴\n",
       "  <span style=\"color: #800000; text-decoration-color: #800000\">MyPlayer:RED</span>              │    0 │    4.50  \n",
       "  <span style=\"color: #000080; text-decoration-color: #000080\">WeightedRandomPlayer:BLUE</span> │    4 │    5.80  \n",
       "  <span style=\"color: #c0c0c0; text-decoration-color: #c0c0c0\">RandomPlayer:WHITE</span>        │    4 │    6.30  \n",
       "  <span style=\"color: #808000; text-decoration-color: #808000\">RandomPlayer:ORANGE</span>       │    2 │    5.90  \n",
       "                            ╵      ╵          \n",
       "</pre>\n"
      ],
      "text/plain": [
       "\u001b[3m                Player Summary                \u001b[0m\n",
       "                            ╷      ╷          \n",
       " \u001b[1m \u001b[0m\u001b[1m                         \u001b[0m\u001b[1m \u001b[0m│\u001b[1m \u001b[0m\u001b[1mWINS\u001b[0m\u001b[1m \u001b[0m│\u001b[1m \u001b[0m\u001b[1mAVG VPs\u001b[0m\u001b[1m \u001b[0m \n",
       "╶───────────────────────────┼──────┼─────────╴\n",
       "  \u001b[31mMyPlayer:RED\u001b[0m              │    0 │    4.50  \n",
       "  \u001b[34mWeightedRandomPlayer:BLUE\u001b[0m │    4 │    5.80  \n",
       "  \u001b[37mRandomPlayer:WHITE\u001b[0m        │    4 │    6.30  \n",
       "  \u001b[33mRandomPlayer:ORANGE\u001b[0m       │    2 │    5.90  \n",
       "                            ╵      ╵          \n"
      ]
     },
     "metadata": {},
     "output_type": "display_data"
    },
    {
     "data": {
      "text/html": [
       "<pre style=\"white-space:pre;overflow-x:auto;line-height:normal;font-family:Menlo,'DejaVu Sans Mono',consolas,'Courier New',monospace\"><span style=\"font-style: italic\">              Game Summary              </span>\n",
       "            ╷           ╷               \n",
       " <span style=\"font-weight: bold\"> AVG TICKS </span>│<span style=\"font-weight: bold\"> AVG TURNS </span>│<span style=\"font-weight: bold\"> AVG DURATION </span> \n",
       "╶───────────┼───────────┼──────────────╴\n",
       "     661.80 │    215.60 │   0.084 secs  \n",
       "            ╵           ╵               \n",
       "</pre>\n"
      ],
      "text/plain": [
       "\u001b[3m              Game Summary              \u001b[0m\n",
       "            ╷           ╷               \n",
       " \u001b[1m \u001b[0m\u001b[1mAVG TICKS\u001b[0m\u001b[1m \u001b[0m│\u001b[1m \u001b[0m\u001b[1mAVG TURNS\u001b[0m\u001b[1m \u001b[0m│\u001b[1m \u001b[0m\u001b[1mAVG DURATION\u001b[0m\u001b[1m \u001b[0m \n",
       "╶───────────┼───────────┼──────────────╴\n",
       "     661.80 │    215.60 │   0.084 secs  \n",
       "            ╵           ╵               \n"
      ]
     },
     "metadata": {},
     "output_type": "display_data"
    }
   ],
   "source": [
    "from pprint import pprint\n",
    "from catanatron_experimental.play import play_batch\n",
    "\n",
    "wins, results_by_player, games = play_batch(10, players)"
   ]
  },
  {
   "cell_type": "markdown",
   "id": "c1e64f53-26dc-40d4-ae7c-1410355617e8",
   "metadata": {},
   "source": [
    "You can inspect the game states in a variety of ways and compute statistics"
   ]
  },
  {
   "cell_type": "code",
   "execution_count": null,
   "id": "34effc30-5cad-4031-aab8-fa91e2d0d1f3",
   "metadata": {},
   "outputs": [],
   "source": [
    "from catanatron.json import GameEncoder\n",
    "from catanatron_gym.features import create_sample_vector, create_sample\n",
    "from catanatron_experimental.machine_learning.board_tensor_features import (\n",
    "    create_board_tensor,\n",
    ")\n",
    "\n",
    "game = games[0]  # pick say the first one\n",
    "\n",
    "# 1. Feature dictionary of last state before game ended from REDs perspective. \n",
    "#   See https://catanatron.readthedocs.io/en/latest/catanatron_gym.envs.html#catanatron_gym.envs.catanatron_env.CatanatronEnv.observation_space\n",
    "#   for more information on this representation.\n",
    "# record = create_sample(game, Color.RED)\n",
    "# pprint(record)\n",
    "\n",
    "# 2. Vector (similar to 1) of last state before game ended\n",
    "# vector = create_sample_vector(game, Color.RED)\n",
    "# print(vector)\n",
    "\n",
    "# 3. Board Tensor representation, similar to the one described in https://arxiv.org/abs/2008.07079\n",
    "# tensor = create_board_tensor(game, Color.RED)\n",
    "# print(tensor)\n",
    "\n",
    "# 4. Inspect Python catanatron.state.State class\n",
    "# print(game.state)\n",
    "\n",
    "# 5. JSON Representation (with full action history)\n",
    "game_json = GameEncoder().default(game)\n",
    "pprint(game_json)  # inspect a game state representation"
   ]
  }
 ],
 "metadata": {
  "kernelspec": {
   "display_name": "Python 3 (ipykernel)",
   "language": "python",
   "name": "python3"
  },
  "language_info": {
   "codemirror_mode": {
    "name": "ipython",
    "version": 3
   },
   "file_extension": ".py",
   "mimetype": "text/x-python",
   "name": "python",
   "nbconvert_exporter": "python",
   "pygments_lexer": "ipython3",
   "version": "3.8.10"
  }
 },
 "nbformat": 4,
 "nbformat_minor": 5
}
