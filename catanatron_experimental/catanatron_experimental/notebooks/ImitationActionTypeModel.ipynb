{
 "cells": [
  {
   "cell_type": "code",
   "execution_count": 1,
   "id": "78929160-6ea7-45ed-b9e3-fa9f5c37f6c6",
   "metadata": {},
   "outputs": [
    {
     "name": "stderr",
     "output_type": "stream",
     "text": [
      "2022-01-27 15:29:52.646137: W tensorflow/stream_executor/platform/default/dso_loader.cc:64] Could not load dynamic library 'libcudart.so.11.0'; dlerror: libcudart.so.11.0: cannot open shared object file: No such file or directory\n",
      "2022-01-27 15:29:52.646160: I tensorflow/stream_executor/cuda/cudart_stub.cc:29] Ignore above cudart dlerror if you do not have a GPU set up on your machine.\n"
     ]
    }
   ],
   "source": [
    "import os\n",
    "import time\n",
    "from pprint import pprint\n",
    "\n",
    "import tensorflow as tf\n",
    "import pandas as pd\n",
    "import numpy as np\n",
    "import matplotlib.pyplot as plt\n",
    "    \n",
    "from catanatron_gym.envs.catanatron_env import ACTION_SPACE_SIZE\n",
    "from catanatron_gym.features import get_feature_ordering"
   ]
  },
  {
   "cell_type": "code",
   "execution_count": 2,
   "id": "981519ce-ea17-42c7-93f1-099bbe653452",
   "metadata": {},
   "outputs": [],
   "source": [
    "# ===== Ensure datasets exists\n",
    "import pathlib\n",
    "import urllib.request\n",
    "\n",
    "# Set appropriately in cloud environments\n",
    "DOWNLOAD_FROM_INTERNET = False\n",
    "DATA_FOLDER = \"../../../data/vf-action-type-prediction\"\n",
    "VALIDATION_DATA = DATA_FOLDER + '-validation'\n",
    "\n",
    "DATASET_PATH = pathlib.Path(DATA_FOLDER, \"main.csv.gzip\")\n",
    "VALIDATION_DATASET_PATH = pathlib.Path(VALIDATION_DATA, \"main.csv.gzip\")\n",
    "\n",
    "if DOWNLOAD_FROM_INTERNET:\n",
    "    DATASET_PATH.parents[0].mkdir(parents=True, exist_ok=True)\n",
    "    VALIDATION_DATASET_PATH.parents[0].mkdir(parents=True, exist_ok=True)\n",
    "    if not DATASET_PATH.exists():\n",
    "        urllib.request.urlretrieve(\"https://catanatron-public.s3.us-east-2.amazonaws.com/1v1-ab2s-nodiscard/main.csv.gzip\", DATASET_PATH)\n",
    "    if not VALIDATION_DATASET_PATH.exists():\n",
    "        urllib.request.urlretrieve(\"https://catanatron-public.s3.us-east-2.amazonaws.com/1v1-ab2s-nodiscard-validation/main.csv.gzip\", VALIDATION_DATASET_PATH)"
   ]
  },
  {
   "cell_type": "code",
   "execution_count": 3,
   "id": "390f0d35-6f6b-488f-a396-592e5227d130",
   "metadata": {},
   "outputs": [
    {
     "name": "stdout",
     "output_type": "stream",
     "text": [
      "165226\n"
     ]
    }
   ],
   "source": [
    "import gzip\n",
    "\n",
    "ACTIONS_DATASET_PATH = pathlib.Path(DATASET_PATH, \"actions.csv.gzip\")\n",
    "NUM_SAMPLES = 0\n",
    "with gzip.open(ACTIONS_DATASET_PATH, \"r\") as f:\n",
    "    for _ in f:\n",
    "        NUM_SAMPLES += 1\n",
    "print(NUM_SAMPLES, \"samples\")"
   ]
  },
  {
   "cell_type": "code",
   "execution_count": 4,
   "id": "b0f0fabd-87c6-42c6-9cc8-2c0c9522a5a9",
   "metadata": {},
   "outputs": [
    {
     "data": {
      "text/html": [
       "<div>\n",
       "<style scoped>\n",
       "    .dataframe tbody tr th:only-of-type {\n",
       "        vertical-align: middle;\n",
       "    }\n",
       "\n",
       "    .dataframe tbody tr th {\n",
       "        vertical-align: top;\n",
       "    }\n",
       "\n",
       "    .dataframe thead th {\n",
       "        text-align: right;\n",
       "    }\n",
       "</style>\n",
       "<table border=\"1\" class=\"dataframe\">\n",
       "  <thead>\n",
       "    <tr style=\"text-align: right;\">\n",
       "      <th></th>\n",
       "      <th>F_BANK_BRICK</th>\n",
       "      <th>F_BANK_DEV_CARDS</th>\n",
       "      <th>F_BANK_ORE</th>\n",
       "      <th>F_BANK_SHEEP</th>\n",
       "      <th>F_BANK_WHEAT</th>\n",
       "      <th>F_BANK_WOOD</th>\n",
       "      <th>F_EDGE(0, 1)_P0_ROAD</th>\n",
       "      <th>F_EDGE(0, 1)_P1_ROAD</th>\n",
       "      <th>F_EDGE(0, 20)_P0_ROAD</th>\n",
       "      <th>F_EDGE(0, 20)_P1_ROAD</th>\n",
       "      <th>...</th>\n",
       "      <th>F_TILE9_IS_WHEAT</th>\n",
       "      <th>F_TILE9_IS_WOOD</th>\n",
       "      <th>F_TILE9_PROBA</th>\n",
       "      <th>ACTION</th>\n",
       "      <th>ACTION_TYPE</th>\n",
       "      <th>RETURN</th>\n",
       "      <th>DISCOUNTED_RETURN</th>\n",
       "      <th>TOURNAMENT_RETURN</th>\n",
       "      <th>DISCOUNTED_TOURNAMENT_RETURN</th>\n",
       "      <th>VICTORY_POINTS_RETURN</th>\n",
       "    </tr>\n",
       "  </thead>\n",
       "  <tbody>\n",
       "    <tr>\n",
       "      <th>0</th>\n",
       "      <td>19.0</td>\n",
       "      <td>25.0</td>\n",
       "      <td>19.0</td>\n",
       "      <td>19.0</td>\n",
       "      <td>19.0</td>\n",
       "      <td>19.0</td>\n",
       "      <td>0.0</td>\n",
       "      <td>0.0</td>\n",
       "      <td>0.0</td>\n",
       "      <td>0.0</td>\n",
       "      <td>...</td>\n",
       "      <td>0.0</td>\n",
       "      <td>0.0</td>\n",
       "      <td>0.055556</td>\n",
       "      <td>106</td>\n",
       "      <td>4</td>\n",
       "      <td>0.0</td>\n",
       "      <td>0.0</td>\n",
       "      <td>5.0</td>\n",
       "      <td>2.30611</td>\n",
       "      <td>4.961646</td>\n",
       "    </tr>\n",
       "    <tr>\n",
       "      <th>1</th>\n",
       "      <td>19.0</td>\n",
       "      <td>25.0</td>\n",
       "      <td>19.0</td>\n",
       "      <td>19.0</td>\n",
       "      <td>19.0</td>\n",
       "      <td>19.0</td>\n",
       "      <td>0.0</td>\n",
       "      <td>0.0</td>\n",
       "      <td>0.0</td>\n",
       "      <td>0.0</td>\n",
       "      <td>...</td>\n",
       "      <td>0.0</td>\n",
       "      <td>0.0</td>\n",
       "      <td>0.055556</td>\n",
       "      <td>45</td>\n",
       "      <td>3</td>\n",
       "      <td>0.0</td>\n",
       "      <td>0.0</td>\n",
       "      <td>5.0</td>\n",
       "      <td>2.30611</td>\n",
       "      <td>4.961646</td>\n",
       "    </tr>\n",
       "    <tr>\n",
       "      <th>2</th>\n",
       "      <td>18.0</td>\n",
       "      <td>25.0</td>\n",
       "      <td>19.0</td>\n",
       "      <td>18.0</td>\n",
       "      <td>17.0</td>\n",
       "      <td>17.0</td>\n",
       "      <td>0.0</td>\n",
       "      <td>0.0</td>\n",
       "      <td>0.0</td>\n",
       "      <td>0.0</td>\n",
       "      <td>...</td>\n",
       "      <td>0.0</td>\n",
       "      <td>0.0</td>\n",
       "      <td>0.055556</td>\n",
       "      <td>114</td>\n",
       "      <td>4</td>\n",
       "      <td>0.0</td>\n",
       "      <td>0.0</td>\n",
       "      <td>5.0</td>\n",
       "      <td>2.30611</td>\n",
       "      <td>4.961646</td>\n",
       "    </tr>\n",
       "    <tr>\n",
       "      <th>3</th>\n",
       "      <td>18.0</td>\n",
       "      <td>25.0</td>\n",
       "      <td>19.0</td>\n",
       "      <td>18.0</td>\n",
       "      <td>17.0</td>\n",
       "      <td>17.0</td>\n",
       "      <td>0.0</td>\n",
       "      <td>0.0</td>\n",
       "      <td>0.0</td>\n",
       "      <td>0.0</td>\n",
       "      <td>...</td>\n",
       "      <td>0.0</td>\n",
       "      <td>0.0</td>\n",
       "      <td>0.055556</td>\n",
       "      <td>51</td>\n",
       "      <td>3</td>\n",
       "      <td>0.0</td>\n",
       "      <td>0.0</td>\n",
       "      <td>5.0</td>\n",
       "      <td>2.30611</td>\n",
       "      <td>4.961646</td>\n",
       "    </tr>\n",
       "    <tr>\n",
       "      <th>4</th>\n",
       "      <td>17.0</td>\n",
       "      <td>25.0</td>\n",
       "      <td>19.0</td>\n",
       "      <td>18.0</td>\n",
       "      <td>17.0</td>\n",
       "      <td>17.0</td>\n",
       "      <td>0.0</td>\n",
       "      <td>0.0</td>\n",
       "      <td>0.0</td>\n",
       "      <td>0.0</td>\n",
       "      <td>...</td>\n",
       "      <td>0.0</td>\n",
       "      <td>0.0</td>\n",
       "      <td>0.055556</td>\n",
       "      <td>0</td>\n",
       "      <td>0</td>\n",
       "      <td>0.0</td>\n",
       "      <td>0.0</td>\n",
       "      <td>5.0</td>\n",
       "      <td>2.30611</td>\n",
       "      <td>4.961646</td>\n",
       "    </tr>\n",
       "    <tr>\n",
       "      <th>5</th>\n",
       "      <td>17.0</td>\n",
       "      <td>25.0</td>\n",
       "      <td>19.0</td>\n",
       "      <td>18.0</td>\n",
       "      <td>17.0</td>\n",
       "      <td>17.0</td>\n",
       "      <td>0.0</td>\n",
       "      <td>0.0</td>\n",
       "      <td>0.0</td>\n",
       "      <td>0.0</td>\n",
       "      <td>...</td>\n",
       "      <td>0.0</td>\n",
       "      <td>0.0</td>\n",
       "      <td>0.055556</td>\n",
       "      <td>289</td>\n",
       "      <td>12</td>\n",
       "      <td>0.0</td>\n",
       "      <td>0.0</td>\n",
       "      <td>5.0</td>\n",
       "      <td>2.30611</td>\n",
       "      <td>4.961646</td>\n",
       "    </tr>\n",
       "    <tr>\n",
       "      <th>6</th>\n",
       "      <td>17.0</td>\n",
       "      <td>25.0</td>\n",
       "      <td>18.0</td>\n",
       "      <td>18.0</td>\n",
       "      <td>16.0</td>\n",
       "      <td>15.0</td>\n",
       "      <td>0.0</td>\n",
       "      <td>0.0</td>\n",
       "      <td>0.0</td>\n",
       "      <td>0.0</td>\n",
       "      <td>...</td>\n",
       "      <td>0.0</td>\n",
       "      <td>0.0</td>\n",
       "      <td>0.055556</td>\n",
       "      <td>0</td>\n",
       "      <td>0</td>\n",
       "      <td>0.0</td>\n",
       "      <td>0.0</td>\n",
       "      <td>5.0</td>\n",
       "      <td>2.30611</td>\n",
       "      <td>4.961646</td>\n",
       "    </tr>\n",
       "    <tr>\n",
       "      <th>7</th>\n",
       "      <td>17.0</td>\n",
       "      <td>25.0</td>\n",
       "      <td>18.0</td>\n",
       "      <td>18.0</td>\n",
       "      <td>16.0</td>\n",
       "      <td>15.0</td>\n",
       "      <td>0.0</td>\n",
       "      <td>0.0</td>\n",
       "      <td>0.0</td>\n",
       "      <td>0.0</td>\n",
       "      <td>...</td>\n",
       "      <td>0.0</td>\n",
       "      <td>0.0</td>\n",
       "      <td>0.055556</td>\n",
       "      <td>289</td>\n",
       "      <td>12</td>\n",
       "      <td>0.0</td>\n",
       "      <td>0.0</td>\n",
       "      <td>5.0</td>\n",
       "      <td>2.30611</td>\n",
       "      <td>4.961646</td>\n",
       "    </tr>\n",
       "    <tr>\n",
       "      <th>8</th>\n",
       "      <td>17.0</td>\n",
       "      <td>25.0</td>\n",
       "      <td>17.0</td>\n",
       "      <td>18.0</td>\n",
       "      <td>12.0</td>\n",
       "      <td>15.0</td>\n",
       "      <td>0.0</td>\n",
       "      <td>0.0</td>\n",
       "      <td>0.0</td>\n",
       "      <td>0.0</td>\n",
       "      <td>...</td>\n",
       "      <td>0.0</td>\n",
       "      <td>0.0</td>\n",
       "      <td>0.055556</td>\n",
       "      <td>0</td>\n",
       "      <td>0</td>\n",
       "      <td>0.0</td>\n",
       "      <td>0.0</td>\n",
       "      <td>5.0</td>\n",
       "      <td>2.30611</td>\n",
       "      <td>4.961646</td>\n",
       "    </tr>\n",
       "    <tr>\n",
       "      <th>9</th>\n",
       "      <td>17.0</td>\n",
       "      <td>25.0</td>\n",
       "      <td>17.0</td>\n",
       "      <td>18.0</td>\n",
       "      <td>16.0</td>\n",
       "      <td>14.0</td>\n",
       "      <td>0.0</td>\n",
       "      <td>0.0</td>\n",
       "      <td>0.0</td>\n",
       "      <td>0.0</td>\n",
       "      <td>...</td>\n",
       "      <td>0.0</td>\n",
       "      <td>0.0</td>\n",
       "      <td>0.055556</td>\n",
       "      <td>241</td>\n",
       "      <td>11</td>\n",
       "      <td>0.0</td>\n",
       "      <td>0.0</td>\n",
       "      <td>5.0</td>\n",
       "      <td>2.30611</td>\n",
       "      <td>4.961646</td>\n",
       "    </tr>\n",
       "  </tbody>\n",
       "</table>\n",
       "<p>10 rows × 621 columns</p>\n",
       "</div>"
      ],
      "text/plain": [
       "   F_BANK_BRICK  F_BANK_DEV_CARDS  F_BANK_ORE  F_BANK_SHEEP  F_BANK_WHEAT  \\\n",
       "0          19.0              25.0        19.0          19.0          19.0   \n",
       "1          19.0              25.0        19.0          19.0          19.0   \n",
       "2          18.0              25.0        19.0          18.0          17.0   \n",
       "3          18.0              25.0        19.0          18.0          17.0   \n",
       "4          17.0              25.0        19.0          18.0          17.0   \n",
       "5          17.0              25.0        19.0          18.0          17.0   \n",
       "6          17.0              25.0        18.0          18.0          16.0   \n",
       "7          17.0              25.0        18.0          18.0          16.0   \n",
       "8          17.0              25.0        17.0          18.0          12.0   \n",
       "9          17.0              25.0        17.0          18.0          16.0   \n",
       "\n",
       "   F_BANK_WOOD  F_EDGE(0, 1)_P0_ROAD  F_EDGE(0, 1)_P1_ROAD  \\\n",
       "0         19.0                   0.0                   0.0   \n",
       "1         19.0                   0.0                   0.0   \n",
       "2         17.0                   0.0                   0.0   \n",
       "3         17.0                   0.0                   0.0   \n",
       "4         17.0                   0.0                   0.0   \n",
       "5         17.0                   0.0                   0.0   \n",
       "6         15.0                   0.0                   0.0   \n",
       "7         15.0                   0.0                   0.0   \n",
       "8         15.0                   0.0                   0.0   \n",
       "9         14.0                   0.0                   0.0   \n",
       "\n",
       "   F_EDGE(0, 20)_P0_ROAD  F_EDGE(0, 20)_P1_ROAD  ...  F_TILE9_IS_WHEAT  \\\n",
       "0                    0.0                    0.0  ...               0.0   \n",
       "1                    0.0                    0.0  ...               0.0   \n",
       "2                    0.0                    0.0  ...               0.0   \n",
       "3                    0.0                    0.0  ...               0.0   \n",
       "4                    0.0                    0.0  ...               0.0   \n",
       "5                    0.0                    0.0  ...               0.0   \n",
       "6                    0.0                    0.0  ...               0.0   \n",
       "7                    0.0                    0.0  ...               0.0   \n",
       "8                    0.0                    0.0  ...               0.0   \n",
       "9                    0.0                    0.0  ...               0.0   \n",
       "\n",
       "   F_TILE9_IS_WOOD  F_TILE9_PROBA  ACTION  ACTION_TYPE  RETURN  \\\n",
       "0              0.0       0.055556     106            4     0.0   \n",
       "1              0.0       0.055556      45            3     0.0   \n",
       "2              0.0       0.055556     114            4     0.0   \n",
       "3              0.0       0.055556      51            3     0.0   \n",
       "4              0.0       0.055556       0            0     0.0   \n",
       "5              0.0       0.055556     289           12     0.0   \n",
       "6              0.0       0.055556       0            0     0.0   \n",
       "7              0.0       0.055556     289           12     0.0   \n",
       "8              0.0       0.055556       0            0     0.0   \n",
       "9              0.0       0.055556     241           11     0.0   \n",
       "\n",
       "   DISCOUNTED_RETURN  TOURNAMENT_RETURN  DISCOUNTED_TOURNAMENT_RETURN  \\\n",
       "0                0.0                5.0                       2.30611   \n",
       "1                0.0                5.0                       2.30611   \n",
       "2                0.0                5.0                       2.30611   \n",
       "3                0.0                5.0                       2.30611   \n",
       "4                0.0                5.0                       2.30611   \n",
       "5                0.0                5.0                       2.30611   \n",
       "6                0.0                5.0                       2.30611   \n",
       "7                0.0                5.0                       2.30611   \n",
       "8                0.0                5.0                       2.30611   \n",
       "9                0.0                5.0                       2.30611   \n",
       "\n",
       "   VICTORY_POINTS_RETURN  \n",
       "0               4.961646  \n",
       "1               4.961646  \n",
       "2               4.961646  \n",
       "3               4.961646  \n",
       "4               4.961646  \n",
       "5               4.961646  \n",
       "6               4.961646  \n",
       "7               4.961646  \n",
       "8               4.961646  \n",
       "9               4.961646  \n",
       "\n",
       "[10 rows x 621 columns]"
      ]
     },
     "execution_count": 4,
     "metadata": {},
     "output_type": "execute_result"
    }
   ],
   "source": [
    "data = pd.read_csv(DATASET_PATH, nrows=10, compression='gzip')\n",
    "validation_data = pd.read_csv(VALIDATION_DATASET_PATH, nrows=10, compression='gzip')\n",
    "\n",
    "assert (data.columns == validation_data.columns).all()\n",
    "data"
   ]
  },
  {
   "cell_type": "code",
   "execution_count": 5,
   "id": "1c1c3ec3",
   "metadata": {},
   "outputs": [
    {
     "name": "stderr",
     "output_type": "stream",
     "text": [
      "2022-01-27 15:29:57.527202: I tensorflow/stream_executor/platform/default/dso_loader.cc:53] Successfully opened dynamic library libcuda.so.1\n",
      "2022-01-27 15:29:57.588526: E tensorflow/stream_executor/cuda/cuda_driver.cc:328] failed call to cuInit: CUDA_ERROR_NO_DEVICE: no CUDA-capable device is detected\n",
      "2022-01-27 15:29:57.588561: I tensorflow/stream_executor/cuda/cuda_diagnostics.cc:156] kernel driver does not appear to be running on this host (bcollazo-Erazer-X510): /proc/driver/nvidia/version does not exist\n",
      "2022-01-27 15:29:57.588976: I tensorflow/core/platform/cpu_feature_guard.cc:142] This TensorFlow binary is optimized with oneAPI Deep Neural Network Library (oneDNN) to use the following CPU instructions in performance-critical operations:  AVX2 FMA\n",
      "To enable them in other operations, rebuild TensorFlow with the appropriate compiler flags.\n"
     ]
    }
   ],
   "source": [
    "# ===== Read Dataset\n",
    "BATCH_SIZE = 128\n",
    "SHUFFLE_SEED = 1\n",
    "INPUT_COLUMNS = list(filter(lambda x: x.startswith(\"F_\"), data.columns))\n",
    "LABEL_COLUMN = \"ACTION_TYPE\"\n",
    "OUTPUT_SIZE = 13\n",
    "\n",
    "dataset = tf.data.experimental.make_csv_dataset(\n",
    "    str(DATASET_PATH),\n",
    "    batch_size=BATCH_SIZE,\n",
    "    num_epochs=1,\n",
    "    label_name=LABEL_COLUMN,\n",
    "    select_columns=INPUT_COLUMNS + [LABEL_COLUMN],\n",
    "    compression_type=\"GZIP\",\n",
    "    shuffle=True,  # shuffle will shuffle at the element level. nice.\n",
    "    shuffle_seed=1,\n",
    "    shuffle_buffer_size=1000,\n",
    "    prefetch_buffer_size=100,\n",
    ")\n",
    "validation_dataset = tf.data.experimental.make_csv_dataset(\n",
    "    str(VALIDATION_DATASET_PATH),\n",
    "    batch_size=BATCH_SIZE,\n",
    "    num_epochs=1,\n",
    "    label_name=LABEL_COLUMN,\n",
    "    select_columns=INPUT_COLUMNS + [LABEL_COLUMN],\n",
    "    compression_type=\"GZIP\",\n",
    "    shuffle=True,\n",
    "    shuffle_seed=1,\n",
    "    shuffle_buffer_size=1000,\n",
    "    prefetch_buffer_size=100,\n",
    ")\n",
    "\n",
    "def preprocess(batch, label):\n",
    "    features = tf.stack(\n",
    "        [tf.cast(tensor, tf.float32) \n",
    "         for feature_name, tensor in batch.items() \n",
    "         if feature_name in INPUT_COLUMNS\n",
    "        ], axis=1\n",
    "    )\n",
    "    return features, tf.stack(label)\n",
    "\n",
    "dataset = dataset.map(preprocess)\n",
    "validation_dataset = validation_dataset.map(preprocess)"
   ]
  },
  {
   "cell_type": "code",
   "execution_count": 20,
   "id": "93420f4f-5952-47e9-94fa-869d57a3a25a",
   "metadata": {},
   "outputs": [
    {
     "name": "stdout",
     "output_type": "stream",
     "text": [
      "Normalization took: 76.33301043510437\n"
     ]
    }
   ],
   "source": [
    "# 100 batches take 7 secs. 1000 takes 75 secs.\n",
    "t1 = time.time()\n",
    "def take_samples(x, y):\n",
    "    return x\n",
    "\n",
    "normalization_layer = tf.keras.layers.experimental.preprocessing.Normalization(axis=None)\n",
    "normalization_layer.adapt(dataset.map(take_samples).take(1000))\n",
    "print(\"Normalization took:\", time.time() - t1)"
   ]
  },
  {
   "cell_type": "code",
   "execution_count": 28,
   "id": "06327dba-94c7-4a6d-9e13-e9fa9e440dfe",
   "metadata": {},
   "outputs": [
    {
     "name": "stdout",
     "output_type": "stream",
     "text": [
      "Computing class counts took: 28.67038917541504 seconds\n"
     ]
    }
   ],
   "source": [
    "# ===== Build Class Weights\n",
    "labels_dataset = tf.data.experimental.make_csv_dataset(\n",
    "    str(DATASET_PATH),\n",
    "    batch_size=BATCH_SIZE,\n",
    "    num_epochs=1,\n",
    "    label_name=LABEL_COLUMN,\n",
    "    select_columns=[LABEL_COLUMN],\n",
    "    compression_type=\"GZIP\",\n",
    ")\n",
    "def count(counts, batch):\n",
    "    features, labels = batch\n",
    "    for i in range(OUTPUT_SIZE):\n",
    "        class_i = labels == i\n",
    "        class_i = tf.cast(class_i, tf.int32)\n",
    "        counts[f\"class_{i}\"] += tf.reduce_sum(class_i)\n",
    "    return counts\n",
    "\n",
    "# This takes abount 3mins\n",
    "start = time.time()\n",
    "initial_state = {f\"class_{i}\": 0 for i in range(OUTPUT_SIZE)}\n",
    "counts = labels_dataset.reduce(initial_state=initial_state, reduce_func=count)  # { \"class_0\": tf.Tensor, ... }\n",
    "print(\"Computing class counts took:\", time.time() - start, \"seconds\")"
   ]
  },
  {
   "cell_type": "code",
   "execution_count": 29,
   "id": "36bc8647-544e-420c-89d3-c73248e4c735",
   "metadata": {},
   "outputs": [
    {
     "name": "stdout",
     "output_type": "stream",
     "text": [
      "{0: 0.22412097,\n",
      " 1: 1.2586013,\n",
      " 2: 4.0140452,\n",
      " 3: 0.8320092,\n",
      " 4: 1.6432182,\n",
      " 5: 3.9167526,\n",
      " 6: 8.010752,\n",
      " 7: 18.287987,\n",
      " 8: 95.803856,\n",
      " 9: 106.405106,\n",
      " 10: 106.405106,\n",
      " 11: 1.2025032,\n",
      " 12: 0.22738989}\n"
     ]
    },
    {
     "name": "stderr",
     "output_type": "stream",
     "text": [
      "/tmp/ipykernel_334489/166635234.py:4: RuntimeWarning: divide by zero encountered in true_divide\n",
      "  weights = (1 / counts_array) * (counts_array.sum() / OUTPUT_SIZE)\n"
     ]
    }
   ],
   "source": [
    "counts_array = np.array([counts[f\"class_{i}\"].numpy() for i in range(OUTPUT_SIZE)]).astype(np.float32)\n",
    "\n",
    "fractions = counts_array/counts_array.sum()\n",
    "weights = (1 / counts_array) * (counts_array.sum() / OUTPUT_SIZE)\n",
    "weights[weights == np.inf] = -np.inf  # Drop inf to min value (to sort of \"clip\" importance)\n",
    "weights[weights == -np.inf] = np.max(weights)  # Drop inf to min value (to sort of \"clip\" importance)\n",
    "class_weight = {i: weights[i] for i in range(OUTPUT_SIZE)}\n",
    "pprint(class_weight)\n",
    "\n",
    "# {0: 0.010215329, then many in 0.5-2 range, 289: 0.010377976}\n",
    "\n",
    "# === Rejection Resampling\n",
    "# def class_func(features, label):\n",
    "#     return label\n",
    "# n = ACTION_SPACE_SIZE\n",
    "# target_dist = [1.0 / n for i in range(n)]\n",
    "# resampler = tf.data.experimental.rejection_resample(\n",
    "#     class_func, target_dist=target_dist)\n",
    "\n",
    "# dataset = dataset.unbatch().apply(resampler).batch(BATCH_SIZE)\\\n",
    "#     .map(lambda extra_label, features_and_label: features_and_label)\n",
    "# dataset"
   ]
  },
  {
   "cell_type": "code",
   "execution_count": 61,
   "id": "5f32d525-105f-4203-a5c9-4a279e20f6f4",
   "metadata": {},
   "outputs": [
    {
     "name": "stdout",
     "output_type": "stream",
     "text": [
      "Model: \"model_7\"\n",
      "_________________________________________________________________\n",
      "Layer (type)                 Output Shape              Param #   \n",
      "=================================================================\n",
      "input_8 (InputLayer)         [(None, 614)]             0         \n",
      "_________________________________________________________________\n",
      "normalization_13 (Normalizat (None, 614)               3         \n",
      "_________________________________________________________________\n",
      "dense_30 (Dense)             (None, 128)               78720     \n",
      "_________________________________________________________________\n",
      "dense_31 (Dense)             (None, 128)               16512     \n",
      "_________________________________________________________________\n",
      "dense_32 (Dense)             (None, 128)               16512     \n",
      "_________________________________________________________________\n",
      "dropout_6 (Dropout)          (None, 128)               0         \n",
      "_________________________________________________________________\n",
      "dense_33 (Dense)             (None, 13)                1677      \n",
      "=================================================================\n",
      "Total params: 113,424\n",
      "Trainable params: 113,421\n",
      "Non-trainable params: 3\n",
      "_________________________________________________________________\n"
     ]
    }
   ],
   "source": [
    "# Things to try: Dropout. Less Learning Rate. Simpler Models. Validation Graph.\n",
    "INPUT_SHAPE = (len(INPUT_COLUMNS),)\n",
    "LAYERS = [128, 128, 128]\n",
    "\n",
    "inputs = tf.keras.Input(shape=INPUT_SHAPE)\n",
    "\n",
    "last_layer = inputs\n",
    "last_layer = normalization_layer(last_layer)\n",
    "for num_neurons in LAYERS:\n",
    "    last_layer = tf.keras.layers.Dense(num_neurons, activation=\"tanh\", dtype='float64')(last_layer)\n",
    "\n",
    "last_layer = tf.keras.layers.Dropout(0.2)(last_layer)\n",
    "output_dense = tf.keras.layers.Dense(13, dtype='float64')(last_layer)\n",
    "model = tf.keras.Model(inputs=inputs, outputs=output_dense)\n",
    "\n",
    "model.compile(\n",
    "    optimizer=tf.keras.optimizers.Adam(1),\n",
    "    loss=tf.keras.losses.SparseCategoricalCrossentropy(from_logits=True), \n",
    "    metrics=['categorical_accuracy', 'accuracy', 'sparse_categorical_accuracy']\n",
    ")\n",
    "model.summary()"
   ]
  },
  {
   "cell_type": "code",
   "execution_count": null,
   "id": "7d04b1b8-2a59-40cc-93e0-43818d152010",
   "metadata": {},
   "outputs": [
    {
     "name": "stdout",
     "output_type": "stream",
     "text": [
      "Epoch 1/10\n",
      "   1187/Unknown - 114s 95ms/step - loss: 98.0755 - categorical_accuracy: 0.0843 - accuracy: 0.0816 - sparse_categorical_accuracy: 0.0816"
     ]
    }
   ],
   "source": [
    "# class_weight = {i: 1 for i in range(290)}\n",
    "# class_weight[0] = 0.01\n",
    "# class_weight[289] = 0.01\n",
    "# class_weight[0] = 0.1\n",
    "# class_weight[289] = 0.1\n",
    "\n",
    "history = model.fit(\n",
    "    dataset, \n",
    "    epochs=10,\n",
    "    # steps_per_epoch=10,\n",
    "    # validation_steps=10,\n",
    "    validation_data=validation_dataset,\n",
    "    class_weight=class_weight\n",
    ")"
   ]
  },
  {
   "cell_type": "code",
   "execution_count": 57,
   "id": "b5ff3779-c8e2-4ade-ba41-ca16350a397c",
   "metadata": {},
   "outputs": [
    {
     "data": {
      "image/png": "[encoded data removed]",
      "text/plain": [
       "<Figure size 432x288 with 1 Axes>"
      ]
     },
     "metadata": {
      "needs_background": "light"
     },
     "output_type": "display_data"
    }
   ],
   "source": [
    "# summarize history for categorical_accuracy\n",
    "plt.plot(history.history['categorical_accuracy'])\n",
    "plt.plot(history.history['val_categorical_accuracy'])\n",
    "plt.title('model categorical_accuracy')\n",
    "plt.ylabel('categorical_accuracy')\n",
    "plt.xlabel('epoch')\n",
    "plt.legend(['train', 'test'], loc='upper left')\n",
    "plt.show()"
   ]
  },
  {
   "cell_type": "code",
   "execution_count": 58,
   "id": "99f515dc-e41f-432d-9b81-4eba15283654",
   "metadata": {},
   "outputs": [
    {
     "ename": "KeyError",
     "evalue": "'sparse_categorical_accuracy'",
     "output_type": "error",
     "traceback": [
      "\u001b[0;31m---------------------------------------------------------------------------\u001b[0m",
      "\u001b[0;31mKeyError\u001b[0m                                  Traceback (most recent call last)",
      "Input \u001b[0;32mIn [58]\u001b[0m, in \u001b[0;36m<module>\u001b[0;34m\u001b[0m\n\u001b[1;32m      1\u001b[0m \u001b[38;5;66;03m# summarize history for sparse_categorical_accuracy\u001b[39;00m\n\u001b[0;32m----> 2\u001b[0m plt\u001b[38;5;241m.\u001b[39mplot(\u001b[43mhistory\u001b[49m\u001b[38;5;241;43m.\u001b[39;49m\u001b[43mhistory\u001b[49m\u001b[43m[\u001b[49m\u001b[38;5;124;43m'\u001b[39;49m\u001b[38;5;124;43msparse_categorical_accuracy\u001b[39;49m\u001b[38;5;124;43m'\u001b[39;49m\u001b[43m]\u001b[49m)\n\u001b[1;32m      3\u001b[0m plt\u001b[38;5;241m.\u001b[39mplot(history\u001b[38;5;241m.\u001b[39mhistory[\u001b[38;5;124m'\u001b[39m\u001b[38;5;124mval_sparse_categorical_accuracy\u001b[39m\u001b[38;5;124m'\u001b[39m])\n\u001b[1;32m      4\u001b[0m plt\u001b[38;5;241m.\u001b[39mtitle(\u001b[38;5;124m'\u001b[39m\u001b[38;5;124mmodel sparse_categorical_accuracy\u001b[39m\u001b[38;5;124m'\u001b[39m)\n",
      "\u001b[0;31mKeyError\u001b[0m: 'sparse_categorical_accuracy'"
     ]
    }
   ],
   "source": [
    "# summarize history for sparse_categorical_accuracy\n",
    "plt.plot(history.history['sparse_categorical_accuracy'])\n",
    "plt.plot(history.history['val_sparse_categorical_accuracy'])\n",
    "plt.title('model sparse_categorical_accuracy')\n",
    "plt.ylabel('sparse_categorical_accuracy')\n",
    "plt.xlabel('epoch')\n",
    "plt.legend(['train', 'test'], loc='upper left')\n",
    "plt.show()"
   ]
  },
  {
   "cell_type": "code",
   "execution_count": 59,
   "id": "b6f6d8b2-a8fd-4e14-b681-29ace5c0021e",
   "metadata": {},
   "outputs": [
    {
     "data": {
      "image/png": "[encoded data removed]",
      "text/plain": [
       "<Figure size 432x288 with 1 Axes>"
      ]
     },
     "metadata": {
      "needs_background": "light"
     },
     "output_type": "display_data"
    }
   ],
   "source": [
    "# summarize history for categorical_accuracy\n",
    "plt.plot(history.history['accuracy'])\n",
    "plt.plot(history.history['val_accuracy'])\n",
    "plt.title('model accuracy')\n",
    "plt.ylabel('accuracy')\n",
    "plt.xlabel('epoch')\n",
    "plt.legend(['train', 'test'], loc='upper left')\n",
    "plt.show()"
   ]
  },
  {
   "cell_type": "code",
   "execution_count": 60,
   "id": "72935405-bb52-4bb0-a7d0-4e87b770f965",
   "metadata": {},
   "outputs": [
    {
     "data": {
      "image/png": "[encoded data removed]",
      "text/plain": [
       "<Figure size 432x288 with 1 Axes>"
      ]
     },
     "metadata": {
      "needs_background": "light"
     },
     "output_type": "display_data"
    }
   ],
   "source": [
    "# summarize history for loss\n",
    "plt.plot(history.history['loss'])\n",
    "plt.plot(history.history['val_loss'])\n",
    "plt.title('model loss')\n",
    "plt.ylabel('loss')\n",
    "plt.xlabel('epoch')\n",
    "plt.legend(['train', 'test'], loc='upper left')\n",
    "plt.show()"
   ]
  },
  {
   "cell_type": "code",
   "execution_count": null,
   "id": "1cd2b36b-d65f-4ec9-8b24-c2a59a76945a",
   "metadata": {},
   "outputs": [],
   "source": [
    "model.save(\"data/models/vf-action-type-prediction-model\")"
   ]
  },
  {
   "cell_type": "code",
   "execution_count": 44,
   "id": "f50fc396-f179-4544-9fe8-107051756824",
   "metadata": {},
   "outputs": [
    {
     "data": {
      "application/vnd.jupyter.widget-view+json": {
       "model_id": "98bc964c107247e089c49f9b9f9b7bc0",
       "version_major": 2,
       "version_minor": 0
      },
      "text/plain": [
       "Output()"
      ]
     },
     "metadata": {},
     "output_type": "display_data"
    },
    {
     "data": {
      "text/html": [
       "<pre style=\"white-space:pre;overflow-x:auto;line-height:normal;font-family:Menlo,'DejaVu Sans Mono',consolas,'Courier New',monospace\"></pre>\n"
      ],
      "text/plain": []
     },
     "metadata": {},
     "output_type": "display_data"
    },
    {
     "data": {
      "text/html": [
       "<pre style=\"white-space:pre;overflow-x:auto;line-height:normal;font-family:Menlo,'DejaVu Sans Mono',consolas,'Courier New',monospace\">\n",
       "</pre>\n"
      ],
      "text/plain": [
       "\n"
      ]
     },
     "metadata": {},
     "output_type": "display_data"
    },
    {
     "data": {
      "text/html": [
       "<pre style=\"white-space:pre;overflow-x:auto;line-height:normal;font-family:Menlo,'DejaVu Sans Mono',consolas,'Courier New',monospace\"><span style=\"font-style: italic\">                     Last 5 Games                     </span>\n",
       "    ╷           ╷       ╷        ╷          ╷         \n",
       " <span style=\"font-weight: bold\"> # </span>│<span style=\"font-weight: bold\"> SEATING   </span>│<span style=\"font-weight: bold\"> TURNS </span>│<span style=\"font-weight: bold\"> RED VP </span>│<span style=\"font-weight: bold\"> WHITE VP </span>│<span style=\"font-weight: bold\"> WINNER </span> \n",
       "╶───┼───────────┼───────┼────────┼──────────┼────────╴\n",
       "  1 │ <span style=\"color: #800000; text-decoration-color: #800000\">RED</span>,<span style=\"color: #c0c0c0; text-decoration-color: #c0c0c0\">WHITE</span> │   455 │      2 │       10 │ <span style=\"color: #c0c0c0; text-decoration-color: #c0c0c0\">WHITE</span>   \n",
       "  2 │ <span style=\"color: #c0c0c0; text-decoration-color: #c0c0c0\">WHITE</span>,<span style=\"color: #800000; text-decoration-color: #800000\">RED</span> │   208 │      2 │       11 │ <span style=\"color: #c0c0c0; text-decoration-color: #c0c0c0\">WHITE</span>   \n",
       "  3 │ <span style=\"color: #800000; text-decoration-color: #800000\">RED</span>,<span style=\"color: #c0c0c0; text-decoration-color: #c0c0c0\">WHITE</span> │   333 │      2 │       10 │ <span style=\"color: #c0c0c0; text-decoration-color: #c0c0c0\">WHITE</span>   \n",
       "  4 │ <span style=\"color: #800000; text-decoration-color: #800000\">RED</span>,<span style=\"color: #c0c0c0; text-decoration-color: #c0c0c0\">WHITE</span> │   463 │      2 │       10 │ <span style=\"color: #c0c0c0; text-decoration-color: #c0c0c0\">WHITE</span>   \n",
       "  5 │ <span style=\"color: #800000; text-decoration-color: #800000\">RED</span>,<span style=\"color: #c0c0c0; text-decoration-color: #c0c0c0\">WHITE</span> │   761 │      2 │       10 │ <span style=\"color: #c0c0c0; text-decoration-color: #c0c0c0\">WHITE</span>   \n",
       "    ╵           ╵       ╵        ╵          ╵         \n",
       "</pre>\n"
      ],
      "text/plain": [
       "\u001b[3m                     Last 5 Games                     \u001b[0m\n",
       "    ╷           ╷       ╷        ╷          ╷         \n",
       " \u001b[1m \u001b[0m\u001b[1m#\u001b[0m\u001b[1m \u001b[0m│\u001b[1m \u001b[0m\u001b[1mSEATING  \u001b[0m\u001b[1m \u001b[0m│\u001b[1m \u001b[0m\u001b[1mTURNS\u001b[0m\u001b[1m \u001b[0m│\u001b[1m \u001b[0m\u001b[1mRED VP\u001b[0m\u001b[1m \u001b[0m│\u001b[1m \u001b[0m\u001b[1mWHITE VP\u001b[0m\u001b[1m \u001b[0m│\u001b[1m \u001b[0m\u001b[1mWINNER\u001b[0m\u001b[1m \u001b[0m \n",
       "╶───┼───────────┼───────┼────────┼──────────┼────────╴\n",
       "  1 │ \u001b[31mRED\u001b[0m,\u001b[37mWHITE\u001b[0m │   455 │      2 │       10 │ \u001b[37mWHITE\u001b[0m   \n",
       "  2 │ \u001b[37mWHITE\u001b[0m,\u001b[31mRED\u001b[0m │   208 │      2 │       11 │ \u001b[37mWHITE\u001b[0m   \n",
       "  3 │ \u001b[31mRED\u001b[0m,\u001b[37mWHITE\u001b[0m │   333 │      2 │       10 │ \u001b[37mWHITE\u001b[0m   \n",
       "  4 │ \u001b[31mRED\u001b[0m,\u001b[37mWHITE\u001b[0m │   463 │      2 │       10 │ \u001b[37mWHITE\u001b[0m   \n",
       "  5 │ \u001b[31mRED\u001b[0m,\u001b[37mWHITE\u001b[0m │   761 │      2 │       10 │ \u001b[37mWHITE\u001b[0m   \n",
       "    ╵           ╵       ╵        ╵          ╵         \n"
      ]
     },
     "metadata": {},
     "output_type": "display_data"
    },
    {
     "data": {
      "text/html": [
       "<pre style=\"white-space:pre;overflow-x:auto;line-height:normal;font-family:Menlo,'DejaVu Sans Mono',consolas,'Courier New',monospace\"><span style=\"font-style: italic\">                                       Player Summary                                        </span>\n",
       "                     ╷      ╷        ╷          ╷          ╷          ╷          ╷           \n",
       " <span style=\"font-weight: bold\">                    </span>│<span style=\"font-weight: bold\">      </span>│<span style=\"font-weight: bold\">        </span>│<span style=\"font-weight: bold\">      AVG </span>│<span style=\"font-weight: bold\">      AVG </span>│<span style=\"font-weight: bold\">          </span>│<span style=\"font-weight: bold\">          </span>│<span style=\"font-weight: bold\">  AVG DEV </span> \n",
       " <span style=\"font-weight: bold\">                    </span>│<span style=\"font-weight: bold\"> WINS </span>│<span style=\"font-weight: bold\"> AVG VP </span>│<span style=\"font-weight: bold\">  SETTLES </span>│<span style=\"font-weight: bold\">   CITIES </span>│<span style=\"font-weight: bold\"> AVG ROAD </span>│<span style=\"font-weight: bold\"> AVG ARMY </span>│<span style=\"font-weight: bold\">       VP </span> \n",
       "╶────────────────────┼──────┼────────┼──────────┼──────────┼──────────┼──────────┼──────────╴\n",
       "  <span style=\"color: #800000; text-decoration-color: #800000\">MyPlayer:RED</span>       │    0 │   2.00 │     2.00 │     0.00 │     0.00 │     0.00 │     0.00  \n",
       "  <span style=\"color: #c0c0c0; text-decoration-color: #c0c0c0\">RandomPlayer:WHITE</span> │    5 │  10.20 │     4.00 │     0.40 │     1.00 │     0.80 │     1.80  \n",
       "                     ╵      ╵        ╵          ╵          ╵          ╵          ╵           \n",
       "</pre>\n"
      ],
      "text/plain": [
       "\u001b[3m                                       Player Summary                                        \u001b[0m\n",
       "                     ╷      ╷        ╷          ╷          ╷          ╷          ╷           \n",
       " \u001b[1m                    \u001b[0m│\u001b[1m      \u001b[0m│\u001b[1m        \u001b[0m│\u001b[1m \u001b[0m\u001b[1m     AVG\u001b[0m\u001b[1m \u001b[0m│\u001b[1m \u001b[0m\u001b[1m     AVG\u001b[0m\u001b[1m \u001b[0m│\u001b[1m          \u001b[0m│\u001b[1m          \u001b[0m│\u001b[1m \u001b[0m\u001b[1m AVG DEV\u001b[0m\u001b[1m \u001b[0m \n",
       " \u001b[1m \u001b[0m\u001b[1m                  \u001b[0m\u001b[1m \u001b[0m│\u001b[1m \u001b[0m\u001b[1mWINS\u001b[0m\u001b[1m \u001b[0m│\u001b[1m \u001b[0m\u001b[1mAVG VP\u001b[0m\u001b[1m \u001b[0m│\u001b[1m \u001b[0m\u001b[1m SETTLES\u001b[0m\u001b[1m \u001b[0m│\u001b[1m \u001b[0m\u001b[1m  CITIES\u001b[0m\u001b[1m \u001b[0m│\u001b[1m \u001b[0m\u001b[1mAVG ROAD\u001b[0m\u001b[1m \u001b[0m│\u001b[1m \u001b[0m\u001b[1mAVG ARMY\u001b[0m\u001b[1m \u001b[0m│\u001b[1m \u001b[0m\u001b[1m      VP\u001b[0m\u001b[1m \u001b[0m \n",
       "╶────────────────────┼──────┼────────┼──────────┼──────────┼──────────┼──────────┼──────────╴\n",
       "  \u001b[31mMyPlayer:RED\u001b[0m       │    0 │   2.00 │     2.00 │     0.00 │     0.00 │     0.00 │     0.00  \n",
       "  \u001b[37mRandomPlayer:WHITE\u001b[0m │    5 │  10.20 │     4.00 │     0.40 │     1.00 │     0.80 │     1.80  \n",
       "                     ╵      ╵        ╵          ╵          ╵          ╵          ╵           \n"
      ]
     },
     "metadata": {},
     "output_type": "display_data"
    },
    {
     "data": {
      "text/html": [
       "<pre style=\"white-space:pre;overflow-x:auto;line-height:normal;font-family:Menlo,'DejaVu Sans Mono',consolas,'Courier New',monospace\"><span style=\"font-style: italic\">              Game Summary              </span>\n",
       "            ╷           ╷               \n",
       " <span style=\"font-weight: bold\"> AVG TICKS </span>│<span style=\"font-weight: bold\"> AVG TURNS </span>│<span style=\"font-weight: bold\"> AVG DURATION </span> \n",
       "╶───────────┼───────────┼──────────────╴\n",
       "    1079.40 │    444.00 │   0.317 secs  \n",
       "            ╵           ╵               \n",
       "</pre>\n"
      ],
      "text/plain": [
       "\u001b[3m              Game Summary              \u001b[0m\n",
       "            ╷           ╷               \n",
       " \u001b[1m \u001b[0m\u001b[1mAVG TICKS\u001b[0m\u001b[1m \u001b[0m│\u001b[1m \u001b[0m\u001b[1mAVG TURNS\u001b[0m\u001b[1m \u001b[0m│\u001b[1m \u001b[0m\u001b[1mAVG DURATION\u001b[0m\u001b[1m \u001b[0m \n",
       "╶───────────┼───────────┼──────────────╴\n",
       "    1079.40 │    444.00 │   0.317 secs  \n",
       "            ╵           ╵               \n"
      ]
     },
     "metadata": {},
     "output_type": "display_data"
    },
    {
     "name": "stdout",
     "output_type": "stream",
     "text": [
      "{<Color.RED: 'RED'>: 0, <Color.WHITE: 'WHITE'>: 5}\n",
      "{<Color.RED: 'RED'>: [2, 2, 2, 2, 2],\n",
      " <Color.WHITE: 'WHITE'>: [10, 11, 10, 10, 10]}\n"
     ]
    }
   ],
   "source": [
    "from pprint import pprint\n",
    "import random\n",
    "import numpy as np\n",
    "import tensorflow as tf\n",
    "\n",
    "from catanatron.game import Game\n",
    "from catanatron.models.player import Player, RandomPlayer, Color\n",
    "from catanatron.models.enums import ActionType\n",
    "from catanatron.players.weighted_random import WeightedRandomPlayer\n",
    "from catanatron_experimental.play import play_batch\n",
    "from catanatron_gym.envs.catanatron_env import to_action_space, ACTION_SPACE_SIZE, from_action_space\n",
    "from catanatron_gym.features import create_sample_vector, create_sample\n",
    "\n",
    "\n",
    "action_types = [i for i in ActionType]\n",
    "\n",
    "\n",
    "def to_action_type_space(action):\n",
    "    return action_types.index(action.action_type)\n",
    "\n",
    "\n",
    "class MyPlayer(Player):\n",
    "    def decide(self, game, playable_actions):\n",
    "        \"\"\"Should return one of the playable_actions.\n",
    "\n",
    "        Args:\n",
    "            game (Game): complete game state. read-only.\n",
    "            playable_actions (Iterable[Action]): options to choose from\n",
    "        Return:\n",
    "            action (Action): Chosen element of playable_actions\n",
    "        \"\"\"\n",
    "        # ===== YOUR CODE HERE =====\n",
    "        action_type_ints = [to_action_type_space(a) for a in playable_actions]\n",
    "        mask = np.zeros(13, dtype=np.float)\n",
    "        mask[action_type_ints] = 1\n",
    "        mask[mask == 0] = np.nan\n",
    "\n",
    "        # Get action probabilities with neural network.\n",
    "        vector = create_sample_vector(game, self.color)\n",
    "        record = create_sample(game, self.color)\n",
    "        keys = [name[2:] for name in INPUT_COLUMNS] # remove the F_ prefix\n",
    "        vector = [record[x] for x in keys]\n",
    "        return playable_actions[0]\n",
    "        X = [vector]\n",
    "        result = model.call(tf.convert_to_tensor(X))\n",
    "\n",
    "        # Multiply mask with output, and take max.\n",
    "        clipped_probabilities = np.multiply(mask, result[0])\n",
    "        clipped_probabilities[np.isnan(clipped_probabilities)] = -np.inf\n",
    "        action_type_index = np.argmax(clipped_probabilities)\n",
    "        predicted_action_type = action_types[action_type_index]\n",
    "        \n",
    "        actions_of_predicted_type = list(filter(\n",
    "            lambda a: a.action_type == predicted_action_type, \n",
    "            playable_actions))\n",
    "        return random.choice(actions_of_predicted_type)\n",
    "        # ===== END YOUR CODE =====\n",
    "\n",
    "import importlib\n",
    "import catanatron_experimental.play #import the module here, so that it can be reloaded.\n",
    "importlib.reload(catanatron_experimental.play)\n",
    "        \n",
    "# Play a simple 4v4 game. Edit MyPlayer with your logic!\n",
    "players = [\n",
    "    MyPlayer(Color.RED),\n",
    "    RandomPlayer(Color.WHITE),\n",
    "]\n",
    "wins, results_by_player, games = play_batch(5, players)\n",
    "\n",
    "pprint(wins)\n",
    "pprint(results_by_player)\n",
    "\n",
    "# Results: [64, 32, 32] with LR 1e-4 made a bot that won 60% of games against Random. Had %60 categorical accuracy."
   ]
  }
 ],
 "metadata": {
  "interpreter": {
   "hash": "0f78080196a7cdfc318a049c523009e8b30d77bd6b3e4da46ec3860e07bf4591"
  },
  "kernelspec": {
   "display_name": "Python 3 (ipykernel)",
   "language": "python",
   "name": "python3"
  },
  "language_info": {
   "codemirror_mode": {
    "name": "ipython",
    "version": 3
   },
   "file_extension": ".py",
   "mimetype": "text/x-python",
   "name": "python",
   "nbconvert_exporter": "python",
   "pygments_lexer": "ipython3",
   "version": "3.8.10"
  }
 },
 "nbformat": 4,
 "nbformat_minor": 5
}
